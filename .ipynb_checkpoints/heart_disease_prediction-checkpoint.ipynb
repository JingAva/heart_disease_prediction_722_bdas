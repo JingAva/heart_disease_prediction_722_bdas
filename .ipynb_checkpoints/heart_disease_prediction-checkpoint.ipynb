{
 "cells": [
  {
   "cell_type": "code",
   "execution_count": 12,
   "id": "b22348ce",
   "metadata": {},
   "outputs": [],
   "source": [
    "# Must be included at the beginning of each new notebook. Remember to change the app name.\n",
    "import findspark\n",
    "findspark.init('/home/ubuntu/spark-3.2.1-bin-hadoop2.7')\n",
    "import pyspark\n",
    "from pyspark.sql import SparkSession\n",
    "spark = SparkSession.builder.appName('heart_disease_predictor').getOrCreate()\n",
    "from pyspark.ml import Pipeline\n",
    "from pyspark.ml.classification import (RandomForestClassifier, GBTClassifier, DecisionTreeClassifier)\n",
    "from pyspark.ml.evaluation import MulticlassClassificationEvaluator"
   ]
  },
  {
   "cell_type": "code",
   "execution_count": 2,
   "id": "0c53e312",
   "metadata": {},
   "outputs": [
    {
     "name": "stderr",
     "output_type": "stream",
     "text": [
      "                                                                                \r"
     ]
    },
    {
     "name": "stdout",
     "output_type": "stream",
     "text": [
      "+---+-----+------+------+------+-----+-----+-----------+----+-----+----+------+------+\n",
      "| id|  age|gender|height|weight|ap_hi|ap_lo|cholesterol|gluc|smoke|alco|active|cardio|\n",
      "+---+-----+------+------+------+-----+-----+-----------+----+-----+----+------+------+\n",
      "|  1|20228|     1|   156|    85|  140|   90|          3|   1|    0|   0|     1|     1|\n",
      "|  2|18857|     1|   165|    64|  130|   70|          3|   1|    0|   0|     0|     1|\n",
      "|  3|17623|     2|   169|    82|  150|  100|          1|   1|    0|   0|     1|     1|\n",
      "|  4|17474|     1|   156|    56|  100|   60|          1|   1|    0|   0|     0|     0|\n",
      "|  8|21914|     1|   151|    67|  120|   80|          2|   2|    0|   0|     0|     0|\n",
      "|  9|22113|     1|   157|    93|  130|   80|          3|   1|    0|   0|     1|     0|\n",
      "| 12|22584|     2|   178|    95|  130|   90|          3|   3|    0|   0|     1|     1|\n",
      "| 13|17668|     1|   158|    71|  110|   70|          1|   1|    0|   0|     1|     0|\n",
      "| 14|19834|     1|   164|    68|  110|   60|          1|   1|    0|   0|     0|     0|\n",
      "| 15|22530|     1|   169|    80|  120|   80|          1|   1|    0|   0|     1|     0|\n",
      "| 16|18815|     2|   173|    60|  120|   80|          1|   1|    0|   0|     1|     0|\n",
      "| 18|14791|     2|   165|    60|  120|   80|          1|   1|    0|   0|     0|     0|\n",
      "| 21|19809|     1|   158|    78|  110|   70|          1|   1|    0|   0|     1|     0|\n",
      "| 23|14532|     2|   181|    95|  130|   90|          1|   1|    1|   1|     1|     0|\n",
      "| 24|16782|     2|   172|   112|  120|   80|          1|   1|    0|   0|     0|     1|\n",
      "| 25| null|     1|   170|    75|  130|   70|          1|   1|    0|   0|     0|     0|\n",
      "| 27|16747|     1|   158|  null|  110|   70|          1|   3|    0|   0|     1|     0|\n",
      "| 28|17482|     1|   154|    68|  100|   70|          1|   1|    0|   0|     0|     0|\n",
      "| 29|21755|     2|   162|    56|  120|   70|          1|   1|    1|   0|     1|     0|\n",
      "| 30|19778|     2|  null|    83|  120|   80|          1|   1|    0|   0|     1|     0|\n",
      "+---+-----+------+------+------+-----+-----+-----------+----+-----+----+------+------+\n",
      "only showing top 20 rows\n",
      "\n",
      "['id', 'age', 'gender', 'height', 'weight', 'ap_hi', 'ap_lo', 'cholesterol', 'gluc', 'smoke', 'alco', 'active', 'cardio']\n"
     ]
    },
    {
     "name": "stderr",
     "output_type": "stream",
     "text": [
      "                                                                                \r"
     ]
    },
    {
     "name": "stdout",
     "output_type": "stream",
     "text": [
      "69601\n"
     ]
    },
    {
     "name": "stderr",
     "output_type": "stream",
     "text": [
      "                                                                                \r"
     ]
    },
    {
     "name": "stdout",
     "output_type": "stream",
     "text": [
      "+-------+------------------+------------------+-------------------+------------------+------------------+------------------+\n",
      "|summary|                id|               age|             gender|            height|            weight|             ap_hi|\n",
      "+-------+------------------+------------------+-------------------+------------------+------------------+------------------+\n",
      "|  count|             69595|             69593|              69601|             69599|             69401|             69590|\n",
      "|   mean|50157.826826639845|19468.128303133937| 1.3496070458757776|164.35981838819524|  74.2093053414216|128.82417013938783|\n",
      "| stddev|28823.868388475246|2466.8843359438742|0.47684927003400684| 8.211530761730874|14.400164919910226| 154.4557028689057|\n",
      "|    min|                 1|             10798|                  1|                55|                10|              -150|\n",
      "|    max|             99999|             23713|                  2|               250|               200|             16020|\n",
      "+-------+------------------+------------------+-------------------+------------------+------------------+------------------+\n",
      "\n",
      "+-------+-----------------+------------------+------------------+-------------------+-------------------+------------------+\n",
      "|summary|            ap_lo|       cholesterol|              gluc|              smoke|               alco|            active|\n",
      "+-------+-----------------+------------------+------------------+-------------------+-------------------+------------------+\n",
      "|  count|            69597|             69601|             69601|              69601|              69601|             69601|\n",
      "|   mean|96.52566920987974|1.3672504705392163|1.2266203071794946| 0.0882314909268545|0.05382106578928464|0.8037671872530567|\n",
      "| stddev|186.1296497832109|0.6805562160872439|0.5725085691129262|0.28363330336721265|0.22566588208767874|0.3971495462911729|\n",
      "|    min|              -70|                 1|                 1|                  0|                  0|                 0|\n",
      "|    max|            11000|                 3|                 3|                  1|                  1|                 1|\n",
      "+-------+-----------------+------------------+------------------+-------------------+-------------------+------------------+\n",
      "\n",
      "+-------+------------------+\n",
      "|summary|            cardio|\n",
      "+-------+------------------+\n",
      "|  count|             69601|\n",
      "|   mean|0.4996336259536501|\n",
      "| stddev|0.5000034577101958|\n",
      "|    min|                 0|\n",
      "|    max|                 1|\n",
      "+-------+------------------+\n",
      "\n",
      "root\n",
      " |-- id: integer (nullable = true)\n",
      " |-- age: integer (nullable = true)\n",
      " |-- gender: integer (nullable = true)\n",
      " |-- height: integer (nullable = true)\n",
      " |-- weight: integer (nullable = true)\n",
      " |-- ap_hi: integer (nullable = true)\n",
      " |-- ap_lo: integer (nullable = true)\n",
      " |-- cholesterol: integer (nullable = true)\n",
      " |-- gluc: integer (nullable = true)\n",
      " |-- smoke: integer (nullable = true)\n",
      " |-- alco: integer (nullable = true)\n",
      " |-- active: integer (nullable = true)\n",
      " |-- cardio: integer (nullable = true)\n",
      "\n"
     ]
    }
   ],
   "source": [
    "# create a structure for data types\n",
    "from pyspark.sql.types import (StructField,StringType,IntegerType,FloatType,StructType)\n",
    "# Then create a variable with the correct structure.\n",
    "data_schema = [StructField('id',IntegerType(),False),\n",
    "              StructField('age',IntegerType(),False),\n",
    "              StructField('gender',IntegerType(),False),\n",
    "              StructField('height',IntegerType(),False),\n",
    "              StructField('weight',IntegerType(),False),\n",
    "              StructField('ap_hi',IntegerType(),False),\n",
    "              StructField('ap_lo',IntegerType(),False),\n",
    "              StructField('cholesterol',IntegerType(),False),\n",
    "              StructField('gluc',IntegerType(),False),\n",
    "              StructField('smoke',IntegerType(),False),\n",
    "              StructField('alco',IntegerType(),False),\n",
    "              StructField('active',IntegerType(),False),\n",
    "              StructField('cardio',IntegerType(),False)]\n",
    "\n",
    "final_struct = StructType(fields=data_schema)\n",
    "# Get two data sources and merge into one table\n",
    "test_csv=spark.read.option(\"header\", \"true\").csv(\"/home/ubuntu/722_BDAS/heart_disease_test.csv\", schema=final_struct)\n",
    "train_csv=spark.read.option(\"header\", \"true\").csv(\"/home/ubuntu/722_BDAS/heart_disease_train_data.csv\", schema=final_struct)\n",
    "df = test_csv.unionByName(train_csv, allowMissingColumns=True)\n",
    "# Show the data sample (first 10 rows), table columns and count\n",
    "df.show()\n",
    "print(df.columns)\n",
    "print(df.count())\n",
    "\n",
    "df.select([\"id\", \"age\",\"gender\",\"height\",\"weight\", \"ap_hi\"]).describe().show()\n",
    "df.select([\"ap_lo\",\"cholesterol\",\"gluc\",\"smoke\",\"alco\",\"active\"]).describe().show()\n",
    "df.select([\"cardio\"]).describe().show()\n",
    "\n",
    "df.printSchema()"
   ]
  },
  {
   "cell_type": "code",
   "execution_count": 3,
   "id": "cc19317f",
   "metadata": {},
   "outputs": [],
   "source": [
    "import numpy as np\n",
    "import matplotlib.pyplot as plt\n",
    "\n",
    "# Create a function to show bar chart for categorical values of cardio value\n",
    "def showBarChartForCategoricalField(data, columns, rows, x_label, y_label):\n",
    "    values = np.arange(0, 70000, 12000)\n",
    "    value_increment = 1\n",
    "\n",
    "    # Get some pastel shades for the colors\n",
    "    colors = plt.cm.BuPu(np.linspace(0, 0.5, len(rows)))\n",
    "    n_rows = len(data)\n",
    "\n",
    "    index = np.arange(len(columns)) + 0.3\n",
    "    bar_width = 0.4\n",
    "\n",
    "    # Initialize the vertical-offset for the stacked bar chart.\n",
    "    y_offset = np.zeros(len(columns))\n",
    "\n",
    "    # Plot bars and create text labels for the table\n",
    "    cell_text = []\n",
    "    for row in range(n_rows):\n",
    "        plt.bar(index, data[row], bar_width, bottom=y_offset, color=colors[row])\n",
    "        y_offset = data[row]\n",
    "        cell_text.append(['%1d' % (x) for x in y_offset])\n",
    "    # Reverse colors and text labels to display the last value at the top.\n",
    "    colors = colors[::-1]\n",
    "\n",
    "    # Add a table at the bottom of the axes\n",
    "    the_table = plt.table(cellText=cell_text,\n",
    "                          rowLabels=rows,\n",
    "                          rowColours=colors,\n",
    "                          colLabels=columns,\n",
    "                          loc='bottom')\n",
    "\n",
    "    # Adjust layout to make room for the table:\n",
    "    plt.subplots_adjust(left=0.2, bottom=0.2)\n",
    "\n",
    "    plt.ylabel(y_label)\n",
    "    plt.yticks(values * value_increment, ['%d' % val for val in values])\n",
    "    plt.xticks([])\n",
    "    plt.title(y_label+' / '+x_label)\n",
    "\n",
    "    plt.show()"
   ]
  },
  {
   "cell_type": "code",
   "execution_count": 12,
   "id": "59be1e62",
   "metadata": {},
   "outputs": [
    {
     "name": "stdout",
     "output_type": "stream",
     "text": [
      "[[22785, 12041], [22483, 12292]]\n"
     ]
    },
    {
     "data": {
      "image/png": "[encoded data removed]",
      "text/plain": [
       "<Figure size 432x288 with 1 Axes>"
      ]
     },
     "metadata": {
      "needs_background": "light"
     },
     "output_type": "display_data"
    }
   ],
   "source": [
    "# show cardio / gender bar chart\n",
    "data = [[df.filter('cardio = 0').filter('gender =1').count(), df.filter('cardio = 0').filter('gender = 2').count()],[df.filter('cardio = 1').filter('gender =1').count(), df.filter('cardio = 1').filter('gender = 2').count()]]\n",
    "print(data)\n",
    "columns = ('Female', 'Male')\n",
    "rows = ['Absence of Cadio', 'Presence of Cardio']\n",
    "x_label=\"Gender\"\n",
    "y_label=\"Cardio\"\n",
    "showBarChartForCategoricalField(data, columns,rows,x_label,y_label)"
   ]
  },
  {
   "cell_type": "code",
   "execution_count": 13,
   "id": "8a62e9bc",
   "metadata": {},
   "outputs": [
    {
     "name": "stderr",
     "output_type": "stream",
     "text": [
      "                                                                                \r"
     ]
    },
    {
     "name": "stdout",
     "output_type": "stream",
     "text": [
      "[[32892, 1934], [32963, 1812]]\n"
     ]
    },
    {
     "data": {
      "image/png": "[encoded data removed]",
      "text/plain": [
       "<Figure size 432x288 with 1 Axes>"
      ]
     },
     "metadata": {
      "needs_background": "light"
     },
     "output_type": "display_data"
    }
   ],
   "source": [
    "# show cardio / alco bar chart\n",
    "data = [[df.filter('cardio = 0').filter('alco =0').count(), df.filter('cardio = 0').filter('alco = 1').count()],[df.filter('cardio = 1').filter('alco =0').count(), df.filter('cardio = 1').filter('alco = 1').count()]]\n",
    "print(data)\n",
    "columns = ('Alcohol intake: no', 'Alcohol intake: yes')\n",
    "rows = ['Absence of Cadio', 'Presence of Cardio']\n",
    "x_label=\"Alco\"\n",
    "y_label=\"Cardio\"\n",
    "showBarChartForCategoricalField(data, columns,rows,x_label,y_label)"
   ]
  },
  {
   "cell_type": "code",
   "execution_count": 8,
   "id": "500861a6",
   "metadata": {},
   "outputs": [
    {
     "name": "stdout",
     "output_type": "stream",
     "text": [
      "[[29159, 3780, 1887], [22912, 5719, 6144]]\n"
     ]
    },
    {
     "data": {
      "image/png": "[encoded data removed]",
      "text/plain": [
       "<Figure size 432x288 with 1 Axes>"
      ]
     },
     "metadata": {
      "needs_background": "light"
     },
     "output_type": "display_data"
    }
   ],
   "source": [
    "# show cardio / cholesterol bar chart\n",
    "data = [[df.filter('cardio = 0').filter('cholesterol =1').count(), df.filter('cardio = 0').filter('cholesterol = 2').count(), df.filter('cardio = 0').filter('cholesterol = 3').count()],[df.filter('cardio = 1').filter('cholesterol =1').count(), df.filter('cardio = 1').filter('cholesterol = 2').count(),df.filter('cardio = 1').filter('cholesterol = 3').count()]]\n",
    "print(data)\n",
    "columns = ('Normal', 'Above normal', 'Well above normal')\n",
    "rows = ['Absence of Cadio', 'Presence of Cardio']\n",
    "x_label=\"Cholesterol level\"\n",
    "y_label=\"Cardio\"\n",
    "showBarChartForCategoricalField(data, columns,rows,x_label,y_label)"
   ]
  },
  {
   "cell_type": "code",
   "execution_count": 9,
   "id": "088f1f7c",
   "metadata": {},
   "outputs": [
    {
     "name": "stderr",
     "output_type": "stream",
     "text": [
      "\r",
      "[Stage 58:=============================>                            (1 + 1) / 2]\r",
      "\r",
      "                                                                                \r"
     ]
    },
    {
     "name": "stdout",
     "output_type": "stream",
     "text": [
      "[[30719, 2099, 2008], [28416, 3060, 3299]]\n"
     ]
    },
    {
     "data": {
      "image/png": "[encoded data removed]",
      "text/plain": [
       "<Figure size 432x288 with 1 Axes>"
      ]
     },
     "metadata": {
      "needs_background": "light"
     },
     "output_type": "display_data"
    }
   ],
   "source": [
    "# show cardio / gluc bar chart\n",
    "data = [[df.filter('cardio = 0').filter('gluc =1').count(), df.filter('cardio = 0').filter('gluc = 2').count(), df.filter('cardio = 0').filter('gluc = 3').count()],[df.filter('cardio = 1').filter('gluc =1').count(), df.filter('cardio = 1').filter('gluc = 2').count(),df.filter('cardio = 1').filter('gluc = 3').count()]]\n",
    "print(data)\n",
    "columns = ('Normal', 'Above normal', 'Well above normal')\n",
    "rows = ['Absence of Cadio', 'Presence of Cardio']\n",
    "x_label=\"Glucose level\"\n",
    "y_label=\"Cardio\"\n",
    "showBarChartForCategoricalField(data, columns,rows,x_label,y_label)"
   ]
  },
  {
   "cell_type": "code",
   "execution_count": 10,
   "id": "d0efbee3",
   "metadata": {},
   "outputs": [
    {
     "name": "stdout",
     "output_type": "stream",
     "text": [
      "[[31600, 3226], [31860, 2915]]\n"
     ]
    },
    {
     "data": {
      "image/png": "[encoded data removed]",
      "text/plain": [
       "<Figure size 432x288 with 1 Axes>"
      ]
     },
     "metadata": {
      "needs_background": "light"
     },
     "output_type": "display_data"
    }
   ],
   "source": [
    "# show cardio / smoke bar chart\n",
    "data = [[df.filter('cardio = 0').filter('smoke =0').count(), df.filter('cardio = 0').filter('smoke = 1').count()],[df.filter('cardio = 1').filter('smoke =0').count(), df.filter('cardio = 1').filter('smoke = 1').count()]]\n",
    "print(data)\n",
    "columns = ('Smoke: no', 'Smoke: yes')\n",
    "rows = ['Absence of Cadio', 'Presence of Cardio']\n",
    "x_label=\"Smoke\"\n",
    "y_label=\"Cardio\"\n",
    "showBarChartForCategoricalField(data, columns,rows,x_label,y_label)"
   ]
  },
  {
   "cell_type": "code",
   "execution_count": 11,
   "id": "65a9b0c3",
   "metadata": {},
   "outputs": [
    {
     "name": "stdout",
     "output_type": "stream",
     "text": [
      "[[6348, 28478], [7310, 27465]]\n"
     ]
    },
    {
     "data": {
      "image/png": "[encoded data removed]",
      "text/plain": [
       "<Figure size 432x288 with 1 Axes>"
      ]
     },
     "metadata": {
      "needs_background": "light"
     },
     "output_type": "display_data"
    }
   ],
   "source": [
    "# show cardio / activity bar chart\n",
    "data = [[df.filter('cardio = 0').filter('active =0').count(), df.filter('cardio = 0').filter('active = 1').count()],[df.filter('cardio = 1').filter('active =0').count(), df.filter('cardio = 1').filter('active = 1').count()]]\n",
    "print(data)\n",
    "columns = ('Activity: no', 'Activity: yes')\n",
    "rows = ['Absence of Cadio', 'Presence of Cardio']\n",
    "x_label=\"Activity\"\n",
    "y_label=\"Cardio\"\n",
    "showBarChartForCategoricalField(data, columns,rows,x_label,y_label)"
   ]
  },
  {
   "cell_type": "code",
   "execution_count": 5,
   "id": "3a4638fd",
   "metadata": {},
   "outputs": [
    {
     "data": {
      "image/png": "[encoded data removed]",
      "text/plain": [
       "<Figure size 432x288 with 1 Axes>"
      ]
     },
     "metadata": {
      "needs_background": "light"
     },
     "output_type": "display_data"
    }
   ],
   "source": [
    "# Show age bar chart\n",
    "ageArr = np.array(df.filter('age>0').select('age').collect())\n",
    "plt.hist(ageArr, 100)\n",
    "plt.show()"
   ]
  },
  {
   "cell_type": "code",
   "execution_count": 18,
   "id": "98710e85",
   "metadata": {},
   "outputs": [
    {
     "data": {
      "image/png": "[encoded data removed]",
      "text/plain": [
       "<Figure size 432x288 with 1 Axes>"
      ]
     },
     "metadata": {
      "needs_background": "light"
     },
     "output_type": "display_data"
    }
   ],
   "source": [
    "# Show ap_lo bar chart\n",
    "ap_lo = np.array(df.filter('ap_lo>0').select('ap_lo').collect())\n",
    "plt.hist(ap_lo, 10)\n",
    "plt.show()"
   ]
  },
  {
   "cell_type": "code",
   "execution_count": 20,
   "id": "e75298f8",
   "metadata": {},
   "outputs": [
    {
     "data": {
      "image/png": "[encoded data removed]",
      "text/plain": [
       "<Figure size 432x288 with 1 Axes>"
      ]
     },
     "metadata": {
      "needs_background": "light"
     },
     "output_type": "display_data"
    }
   ],
   "source": [
    "# Show ap_hi bar chart\n",
    "ap_hi = np.array(df.filter('ap_hi>0').select('ap_hi').collect())\n",
    "plt.hist(ap_hi, 10)\n",
    "plt.show()"
   ]
  },
  {
   "cell_type": "code",
   "execution_count": 21,
   "id": "abde6c95",
   "metadata": {},
   "outputs": [
    {
     "data": {
      "image/png": "[encoded data removed]",
      "text/plain": [
       "<Figure size 432x288 with 1 Axes>"
      ]
     },
     "metadata": {
      "needs_background": "light"
     },
     "output_type": "display_data"
    }
   ],
   "source": [
    "# Show weight bar chart\n",
    "weight = np.array(df.filter('weight>0').select('weight').collect())\n",
    "plt.hist(weight, 10)\n",
    "plt.show()"
   ]
  },
  {
   "cell_type": "code",
   "execution_count": 22,
   "id": "c5e113db",
   "metadata": {},
   "outputs": [
    {
     "data": {
      "image/png": "[encoded data removed]",
      "text/plain": [
       "<Figure size 432x288 with 1 Axes>"
      ]
     },
     "metadata": {
      "needs_background": "light"
     },
     "output_type": "display_data"
    }
   ],
   "source": [
    "# Show height bar chart\n",
    "height = np.array(df.filter('height>0').select('height').collect())\n",
    "plt.hist(height, 10)\n",
    "plt.show()"
   ]
  },
  {
   "cell_type": "code",
   "execution_count": 5,
   "id": "53e1e4fc",
   "metadata": {},
   "outputs": [
    {
     "name": "stdout",
     "output_type": "stream",
     "text": [
      "Get the list of the number of null value for each field\n"
     ]
    },
    {
     "data": {
      "text/plain": [
       "id               6\n",
       "age              8\n",
       "gender           0\n",
       "height           2\n",
       "weight         200\n",
       "ap_hi           11\n",
       "ap_lo            4\n",
       "cholesterol      0\n",
       "gluc             0\n",
       "smoke            0\n",
       "alco             0\n",
       "active           0\n",
       "cardio           0\n",
       "dtype: int64"
      ]
     },
     "execution_count": 5,
     "metadata": {},
     "output_type": "execute_result"
    }
   ],
   "source": [
    "# Checking for null/missing values\n",
    "print('Get the list of the number of null value for each field')\n",
    "df.toPandas().isnull().sum()"
   ]
  },
  {
   "cell_type": "code",
   "execution_count": 4,
   "id": "f56608ea",
   "metadata": {},
   "outputs": [
    {
     "name": "stdout",
     "output_type": "stream",
     "text": [
      "root\n",
      " |-- name: string (nullable = true)\n",
      " |-- correlation: float (nullable = true)\n",
      "\n"
     ]
    },
    {
     "name": "stderr",
     "output_type": "stream",
     "text": [
      "\r",
      "[Stage 26:>                                                         (0 + 1) / 1]\r"
     ]
    },
    {
     "name": "stdout",
     "output_type": "stream",
     "text": [
      "+-----------+-------------+\n",
      "|       name|  correlation|\n",
      "+-----------+-------------+\n",
      "|         id| 0.0041427356|\n",
      "|        age|   0.23773436|\n",
      "|     gender|  0.008099986|\n",
      "|     height| -0.009872831|\n",
      "|     weight|   0.17463471|\n",
      "|      ap_hi|  0.054296993|\n",
      "|      ap_lo|    0.0674119|\n",
      "|cholesterol|    0.2210763|\n",
      "|       gluc|   0.08920544|\n",
      "|      smoke| -0.015526061|\n",
      "|       alco|-0.0075927465|\n",
      "|     active|  -0.03516442|\n",
      "|     cardio|          1.0|\n",
      "+-----------+-------------+\n",
      "\n"
     ]
    },
    {
     "name": "stderr",
     "output_type": "stream",
     "text": [
      "\r",
      "                                                                                \r"
     ]
    }
   ],
   "source": [
    "# Get correlations for cardio\n",
    "correlations = []\n",
    "for column in df.columns:\n",
    "    correlations.append([column, df.corr('cardio', column, \"pearson\")])\n",
    "schema = StructType([ \n",
    "    StructField(\"name\",StringType(),True), \n",
    "    StructField(\"correlation\",FloatType(),True)\n",
    "  ])\n",
    "\n",
    "corr_df = spark.createDataFrame(data=correlations,schema=schema)\n",
    "corr_df.printSchema()\n",
    "corr_df.show()"
   ]
  },
  {
   "cell_type": "code",
   "execution_count": 4,
   "id": "9382f75e",
   "metadata": {},
   "outputs": [],
   "source": [
    "df=df.drop('id')"
   ]
  },
  {
   "cell_type": "code",
   "execution_count": 5,
   "id": "066df40d",
   "metadata": {},
   "outputs": [
    {
     "name": "stderr",
     "output_type": "stream",
     "text": [
      "                                                                                \r"
     ]
    },
    {
     "name": "stdout",
     "output_type": "stream",
     "text": [
      "+-----+------+------+------+-----+-----+-----------+----+-----+----+------+------+\n",
      "|  age|gender|height|weight|ap_hi|ap_lo|cholesterol|gluc|smoke|alco|active|cardio|\n",
      "+-----+------+------+------+-----+-----+-----------+----+-----+----+------+------+\n",
      "|20228|     1|   156|    85|  140|   90|          3|   1|    0|   0|     1|     1|\n",
      "|18857|     1|   165|    64|  130|   70|          3|   1|    0|   0|     0|     1|\n",
      "|17623|     2|   169|    82|  150|  100|          1|   1|    0|   0|     1|     1|\n",
      "|17474|     1|   156|    56|  100|   60|          1|   1|    0|   0|     0|     0|\n",
      "|21914|     1|   151|    67|  120|   80|          2|   2|    0|   0|     0|     0|\n",
      "|22113|     1|   157|    93|  130|   80|          3|   1|    0|   0|     1|     0|\n",
      "|22584|     2|   178|    95|  130|   90|          3|   3|    0|   0|     1|     1|\n",
      "|17668|     1|   158|    71|  110|   70|          1|   1|    0|   0|     1|     0|\n",
      "|19834|     1|   164|    68|  110|   60|          1|   1|    0|   0|     0|     0|\n",
      "|22530|     1|   169|    80|  120|   80|          1|   1|    0|   0|     1|     0|\n",
      "|18815|     2|   173|    60|  120|   80|          1|   1|    0|   0|     1|     0|\n",
      "|14791|     2|   165|    60|  120|   80|          1|   1|    0|   0|     0|     0|\n",
      "|19809|     1|   158|    78|  110|   70|          1|   1|    0|   0|     1|     0|\n",
      "|14532|     2|   181|    95|  130|   90|          1|   1|    1|   1|     1|     0|\n",
      "|16782|     2|   172|   112|  120|   80|          1|   1|    0|   0|     0|     1|\n",
      "|17482|     1|   154|    68|  100|   70|          1|   1|    0|   0|     0|     0|\n",
      "|21755|     2|   162|    56|  120|   70|          1|   1|    1|   0|     1|     0|\n",
      "|21413|     1|   157|    69|  130|   80|          1|   1|    0|   0|     1|     0|\n",
      "|23046|     1|   158|    90|  145|   85|          2|   2|    0|   0|     1|     1|\n",
      "|16608|     1|   170|    68|  150|   90|          3|   1|    0|   0|     1|     1|\n",
      "+-----+------+------+------+-----+-----+-----------+----+-----+----+------+------+\n",
      "only showing top 20 rows\n",
      "\n"
     ]
    },
    {
     "name": "stderr",
     "output_type": "stream",
     "text": [
      "                                                                                \r"
     ]
    },
    {
     "name": "stdout",
     "output_type": "stream",
     "text": [
      "before dropping missing values:  69601\n"
     ]
    },
    {
     "name": "stderr",
     "output_type": "stream",
     "text": [
      "[Stage 17:=============================>                            (1 + 1) / 2]\r"
     ]
    },
    {
     "name": "stdout",
     "output_type": "stream",
     "text": [
      "after dropping missing values:  69377\n"
     ]
    },
    {
     "name": "stderr",
     "output_type": "stream",
     "text": [
      "\r",
      "                                                                                \r"
     ]
    }
   ],
   "source": [
    "# Drop rows with null values\n",
    "df.na.drop().show()\n",
    "print('before dropping missing values: ', df.count())\n",
    "df=df.na.drop()\n",
    "print('after dropping missing values: ', df.count())"
   ]
  },
  {
   "cell_type": "code",
   "execution_count": 6,
   "id": "efbe08b7",
   "metadata": {},
   "outputs": [
    {
     "name": "stderr",
     "output_type": "stream",
     "text": [
      "                                                                                \r"
     ]
    },
    {
     "name": "stdout",
     "output_type": "stream",
     "text": [
      "height_low_quantile:  height    150.0\n",
      "Name: 0.025, dtype: float64\n",
      "height_high_quantile:  height    180.0\n",
      "Name: 0.975, dtype: float64\n",
      "weight_low_quantile:  weight    51.0\n",
      "Name: 0.025, dtype: float64\n",
      "weight_high_quantile:  weight    108.0\n",
      "Name: 0.975, dtype: float64\n"
     ]
    },
    {
     "name": "stderr",
     "output_type": "stream",
     "text": [
      "                                                                                \r"
     ]
    },
    {
     "name": "stdout",
     "output_type": "stream",
     "text": [
      "ap_lo_low_quantile:  ap_lo    60.0\n",
      "Name: 0.025, dtype: float64\n",
      "ap_lo_high_quantile:  ap_lo    100.0\n",
      "Name: 0.975, dtype: float64\n",
      "ap_hi_low_quantile:  ap_hi    100.0\n",
      "Name: 0.025, dtype: float64\n",
      "ap_hi_high_quantile:  ap_hi    170.0\n",
      "Name: 0.975, dtype: float64\n"
     ]
    }
   ],
   "source": [
    "# Get outliers and extremes\n",
    "height_low_quantile = df.select('height').toPandas().quantile(0.025)\n",
    "height_high_quantile = df.select('height').toPandas().quantile(0.975)\n",
    "weight_low_quantile = df.select('weight').toPandas().quantile(0.025)\n",
    "weight_high_quantile = df.select('weight').toPandas().quantile(0.975)\n",
    "print('height_low_quantile: ',height_low_quantile)\n",
    "print('height_high_quantile: ',height_high_quantile)\n",
    "print('weight_low_quantile: ',weight_low_quantile)\n",
    "print('weight_high_quantile: ',weight_high_quantile)\n",
    "\n",
    "ap_lo_low_quantile = df.select('ap_lo').toPandas().quantile(0.025)\n",
    "ap_lo_high_quantile = df.select('ap_lo').toPandas().quantile(0.975)\n",
    "ap_hi_low_quantile = df.select('ap_hi').toPandas().quantile(0.025)\n",
    "ap_hi_high_quantile = df.select('ap_hi').toPandas().quantile(0.975)\n",
    "print('ap_lo_low_quantile: ',ap_lo_low_quantile)\n",
    "print('ap_lo_high_quantile: ',ap_lo_high_quantile)\n",
    "print('ap_hi_low_quantile: ',ap_hi_low_quantile)\n",
    "print('ap_hi_high_quantile: ',ap_hi_high_quantile)"
   ]
  },
  {
   "cell_type": "code",
   "execution_count": 7,
   "id": "d6d1434a",
   "metadata": {},
   "outputs": [
    {
     "name": "stderr",
     "output_type": "stream",
     "text": [
      "[Stage 28:=============================>                            (1 + 1) / 2]\r"
     ]
    },
    {
     "name": "stdout",
     "output_type": "stream",
     "text": [
      "Total number of rows before removing outliers and extreme values:  69377\n"
     ]
    },
    {
     "name": "stderr",
     "output_type": "stream",
     "text": [
      "[Stage 31:=============================>                            (1 + 1) / 2]\r"
     ]
    },
    {
     "name": "stdout",
     "output_type": "stream",
     "text": [
      "Total number of rows after removing outliers and extreme values:  60558\n"
     ]
    },
    {
     "name": "stderr",
     "output_type": "stream",
     "text": [
      "\r",
      "                                                                                \r"
     ]
    }
   ],
   "source": [
    "# Removing outliers and extremes\n",
    "print('Total number of rows before removing outliers and extreme values: ', df.count())\n",
    "df=df.filter('height >= 150.0').filter('height <= 180.0')\n",
    "df=df.filter('weight >= 51.0').filter('weight <= 108.0')\n",
    "\n",
    "df=df.filter('ap_lo >= 60.0').filter('ap_lo <= 100.0')\n",
    "df=df.filter('ap_hi >= 100.0').filter('ap_hi <= 170.0')\n",
    "print('Total number of rows after removing outliers and extreme values: ', df.count())"
   ]
  },
  {
   "cell_type": "code",
   "execution_count": 8,
   "id": "5552a9d3",
   "metadata": {},
   "outputs": [
    {
     "name": "stdout",
     "output_type": "stream",
     "text": [
      "After removing missing, outliers and extremes\n"
     ]
    },
    {
     "name": "stderr",
     "output_type": "stream",
     "text": [
      "                                                                                \r"
     ]
    },
    {
     "name": "stdout",
     "output_type": "stream",
     "text": [
      "+-------+------------------+------------------+------------------+-----------------+------------------+\n",
      "|summary|               age|            gender|            height|           weight|             ap_hi|\n",
      "+-------+------------------+------------------+------------------+-----------------+------------------+\n",
      "|  count|             60558|             60558|             60558|            60558|             60558|\n",
      "|   mean|19475.975345949337|1.3474685425542454|164.54602199544237|73.51966709600714|126.14544733974041|\n",
      "| stddev| 2459.487128915687|0.4761700312219454| 6.841795541748977|11.84938874157776|14.296624159394991|\n",
      "|    min|             10798|                 1|               150|               51|               100|\n",
      "|    max|             23713|                 2|               180|              108|               170|\n",
      "+-------+------------------+------------------+------------------+-----------------+------------------+\n",
      "\n"
     ]
    },
    {
     "name": "stderr",
     "output_type": "stream",
     "text": [
      "                                                                                \r"
     ]
    },
    {
     "name": "stdout",
     "output_type": "stream",
     "text": [
      "+-------+-----------------+------------------+------------------+------------------+-------------------+-------------------+\n",
      "|summary|            ap_lo|       cholesterol|              gluc|             smoke|               alco|             active|\n",
      "+-------+-----------------+------------------+------------------+------------------+-------------------+-------------------+\n",
      "|  count|            60558|             60558|             60558|             60558|              60558|              60558|\n",
      "|   mean|81.14704910994419|1.3545031209749332|1.2211763928795536|0.0857690148287592|0.05209881435978731|  0.803642788731464|\n",
      "| stddev|8.320105838576605|0.6728466946392855|0.5683839488592718|0.2800249734963853|0.22222813369812852|0.39724509144636894|\n",
      "|    min|               60|                 1|                 1|                 0|                  0|                  0|\n",
      "|    max|              100|                 3|                 3|                 1|                  1|                  1|\n",
      "+-------+-----------------+------------------+------------------+------------------+-------------------+-------------------+\n",
      "\n"
     ]
    },
    {
     "name": "stderr",
     "output_type": "stream",
     "text": [
      "                                                                                \r"
     ]
    },
    {
     "name": "stdout",
     "output_type": "stream",
     "text": [
      "+-------+-------------------+\n",
      "|summary|             cardio|\n",
      "+-------+-------------------+\n",
      "|  count|              60558|\n",
      "|   mean| 0.4916278608936887|\n",
      "| stddev|0.49993403011918525|\n",
      "|    min|                  0|\n",
      "|    max|                  1|\n",
      "+-------+-------------------+\n",
      "\n"
     ]
    }
   ],
   "source": [
    "print('After removing missing, outliers and extremes')\n",
    "df.select([\"age\",\"gender\",\"height\",\"weight\", \"ap_hi\"]).describe().show()\n",
    "df.select([\"ap_lo\",\"cholesterol\",\"gluc\",\"smoke\",\"alco\",\"active\"]).describe().show()\n",
    "df.select([\"cardio\"]).describe().show()"
   ]
  },
  {
   "cell_type": "code",
   "execution_count": 9,
   "id": "6d24b0ce",
   "metadata": {},
   "outputs": [
    {
     "data": {
      "image/png": "[encoded data removed]",
      "text/plain": [
       "<Figure size 432x288 with 1 Axes>"
      ]
     },
     "metadata": {
      "needs_background": "light"
     },
     "output_type": "display_data"
    }
   ],
   "source": [
    "data= np.array(df.select('ap_lo','ap_hi').collect())\n",
    "fig, ax=plt.subplots()\n",
    "ax.boxplot(data)\n",
    "plt.show()"
   ]
  },
  {
   "cell_type": "code",
   "execution_count": 10,
   "id": "77dfd4bd",
   "metadata": {},
   "outputs": [
    {
     "name": "stdout",
     "output_type": "stream",
     "text": [
      "+-----+------+-----+-----+-----------+----+-----+----+------+------+-------+\n",
      "|  age|gender|ap_hi|ap_lo|cholesterol|gluc|smoke|alco|active|cardio|bmi_cat|\n",
      "+-----+------+-----+-----+-----------+----+-----+----+------+------+-------+\n",
      "|20228|     1|    1|    3|          3|   1|    0|   0|     1|     1|      4|\n",
      "|18857|     1|    1|    1|          3|   1|    0|   0|     0|     1|      2|\n",
      "|17623|     2|    1|    3|          1|   1|    0|   0|     1|     1|      3|\n",
      "|17474|     1|    1|    1|          1|   1|    0|   0|     0|     0|      2|\n",
      "|21914|     1|    1|    2|          2|   2|    0|   0|     0|     0|      3|\n",
      "|22113|     1|    1|    2|          3|   1|    0|   0|     1|     0|      4|\n",
      "|22584|     2|    1|    3|          3|   3|    0|   0|     1|     1|      3|\n",
      "|17668|     1|    1|    1|          1|   1|    0|   0|     1|     0|      3|\n",
      "|19834|     1|    1|    1|          1|   1|    0|   0|     0|     0|      3|\n",
      "|22530|     1|    1|    2|          1|   1|    0|   0|     1|     0|      3|\n",
      "|18815|     2|    1|    2|          1|   1|    0|   0|     1|     0|      2|\n",
      "|14791|     2|    1|    2|          1|   1|    0|   0|     0|     0|      2|\n",
      "|19809|     1|    1|    1|          1|   1|    0|   0|     1|     0|      4|\n",
      "|17482|     1|    1|    1|          1|   1|    0|   0|     0|     0|      3|\n",
      "|21755|     2|    1|    1|          1|   1|    1|   0|     1|     0|      2|\n",
      "|21413|     1|    1|    2|          1|   1|    0|   0|     1|     0|      3|\n",
      "|23046|     1|    1|    2|          2|   2|    0|   0|     1|     1|      4|\n",
      "|16608|     1|    1|    3|          3|   1|    0|   0|     1|     1|      2|\n",
      "|14453|     1|    1|    3|          2|   1|    0|   0|     1|     0|      3|\n",
      "|18085|     1|    1|    2|          1|   1|    0|   0|     1|     0|      4|\n",
      "+-----+------+-----+-----+-----------+----+-----+----+------+------+-------+\n",
      "only showing top 20 rows\n",
      "\n"
     ]
    }
   ],
   "source": [
    "# Creating a new feature \n",
    "from pyspark.sql.functions import when\n",
    "from pyspark.sql.functions import lit\n",
    "df=df.withColumn('bmi', df.weight/((df.height/100)*(df.height/100)))\n",
    "\n",
    "df=df.withColumn('bmi_cat', \n",
    "              when((df.bmi < 18.5), lit(1)) \n",
    "              .when((df.bmi >= 18.5) & (df.bmi < 25), lit(2))\n",
    "              .when((df.bmi >= 25) & (df.bmi < 30), lit(3))\n",
    "              .otherwise(lit(4)))\n",
    "\n",
    "df=df.withColumn('ap_hi', \n",
    "              when((df.ap_hi < 120), lit(1)) \n",
    "              .when((df.ap_hi >= 120) & (df.ap_hi <= 129), lit(2))\n",
    "              .when((df.ap_hi >= 130) & (df.ap_hi <= 139), lit(3))\n",
    "              .when((df.ap_hi >= 140) & (df.ap_hi < 149), lit(4))\n",
    "              .otherwise(lit(5)))\n",
    "\n",
    "df=df.withColumn('ap_lo', \n",
    "              when((df.ap_lo < 80), lit(1)) \n",
    "              .when((df.ap_lo >= 80) & (df.ap_lo <= 89), lit(2))\n",
    "              .when((df.ap_lo >= 90) & (df.ap_lo <= 120), lit(3))\n",
    "              .otherwise(lit(4)))\n",
    "df.drop('weight','height','bmi').show()"
   ]
  },
  {
   "cell_type": "code",
   "execution_count": null,
   "id": "732030b8",
   "metadata": {},
   "outputs": [],
   "source": []
  },
  {
   "cell_type": "code",
   "execution_count": null,
   "id": "6cbf773b",
   "metadata": {},
   "outputs": [],
   "source": []
  }
 ],
 "metadata": {
  "kernelspec": {
   "display_name": "Python 3 (ipykernel)",
   "language": "python",
   "name": "python3"
  },
  "language_info": {
   "codemirror_mode": {
    "name": "ipython",
    "version": 3
   },
   "file_extension": ".py",
   "mimetype": "text/x-python",
   "name": "python",
   "nbconvert_exporter": "python",
   "pygments_lexer": "ipython3",
   "version": "3.10.4"
  }
 },
 "nbformat": 4,
 "nbformat_minor": 5
}
