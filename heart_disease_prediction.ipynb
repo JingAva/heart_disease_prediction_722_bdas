{
 "cells": [
  {
   "cell_type": "code",
   "execution_count": 2,
   "id": "b22348ce",
   "metadata": {},
   "outputs": [],
   "source": [
    "# Must be included at the beginning of each new notebook. Remember to change the app name.\n",
    "import findspark\n",
    "findspark.init('/home/ubuntu/spark-3.2.1-bin-hadoop2.7')\n",
    "import pyspark\n",
    "from pyspark.sql import SparkSession\n",
    "spark = SparkSession.builder.appName('heart_disease_predictor').getOrCreate()"
   ]
  },
  {
   "cell_type": "code",
   "execution_count": 24,
   "id": "0c53e312",
   "metadata": {},
   "outputs": [
    {
     "name": "stdout",
     "output_type": "stream",
     "text": [
      "+---+-----+------+------+------+-----+-----+-----------+----+-----+----+------+------+\n",
      "| id|  age|gender|height|weight|ap_hi|ap_lo|cholesterol|gluc|smoke|alco|active|cardio|\n",
      "+---+-----+------+------+------+-----+-----+-----------+----+-----+----+------+------+\n",
      "|  1|20228|     1|   156|    85|  140|   90|          3|   1|    0|   0|     1|     1|\n",
      "|  2|18857|     1|   165|    64|  130|   70|          3|   1|    0|   0|     0|     1|\n",
      "|  3|17623|     2|   169|    82|  150|  100|          1|   1|    0|   0|     1|     1|\n",
      "|  4|17474|     1|   156|    56|  100|   60|          1|   1|    0|   0|     0|     0|\n",
      "|  8|21914|     1|   151|    67|  120|   80|          2|   2|    0|   0|     0|     0|\n",
      "|  9|22113|     1|   157|    93|  130|   80|          3|   1|    0|   0|     1|     0|\n",
      "| 12|22584|     2|   178|    95|  130|   90|          3|   3|    0|   0|     1|     1|\n",
      "| 13|17668|     1|   158|    71|  110|   70|          1|   1|    0|   0|     1|     0|\n",
      "| 14|19834|     1|   164|    68|  110|   60|          1|   1|    0|   0|     0|     0|\n",
      "| 15|22530|     1|   169|    80|  120|   80|          1|   1|    0|   0|     1|     0|\n",
      "| 16|18815|     2|   173|    60|  120|   80|          1|   1|    0|   0|     1|     0|\n",
      "| 18|14791|     2|   165|    60|  120|   80|          1|   1|    0|   0|     0|     0|\n",
      "| 21|19809|     1|   158|    78|  110|   70|          1|   1|    0|   0|     1|     0|\n",
      "| 23|14532|     2|   181|    95|  130|   90|          1|   1|    1|   1|     1|     0|\n",
      "| 24|16782|     2|   172|   112|  120|   80|          1|   1|    0|   0|     0|     1|\n",
      "| 25| null|     1|   170|    75|  130|   70|          1|   1|    0|   0|     0|     0|\n",
      "| 27|16747|     1|   158|  null|  110|   70|          1|   3|    0|   0|     1|     0|\n",
      "| 28|17482|     1|   154|    68|  100|   70|          1|   1|    0|   0|     0|     0|\n",
      "| 29|21755|     2|   162|    56|  120|   70|          1|   1|    1|   0|     1|     0|\n",
      "| 30|19778|     2|  null|    83|  120|   80|          1|   1|    0|   0|     1|     0|\n",
      "+---+-----+------+------+------+-----+-----+-----------+----+-----+----+------+------+\n",
      "only showing top 20 rows\n",
      "\n",
      "['id', 'age', 'gender', 'height', 'weight', 'ap_hi', 'ap_lo', 'cholesterol', 'gluc', 'smoke', 'alco', 'active', 'cardio']\n",
      "69601\n"
     ]
    },
    {
     "name": "stderr",
     "output_type": "stream",
     "text": [
      "                                                                                \r"
     ]
    },
    {
     "name": "stdout",
     "output_type": "stream",
     "text": [
      "+-------+------------------+------------------+-------------------+------------------+------------------+------------------+\n",
      "|summary|                id|               age|             gender|            height|            weight|             ap_hi|\n",
      "+-------+------------------+------------------+-------------------+------------------+------------------+------------------+\n",
      "|  count|             69595|             69593|              69601|             69599|             69401|             69590|\n",
      "|   mean|50157.826826639845|19468.128303133937| 1.3496070458757776|164.35981838819524|  74.2093053414216|128.82417013938783|\n",
      "| stddev|28823.868388475246|2466.8843359438742|0.47684927003400684| 8.211530761730874|14.400164919910226| 154.4557028689057|\n",
      "|    min|                 1|             10798|                  1|                55|                10|              -150|\n",
      "|    max|             99999|             23713|                  2|               250|               200|             16020|\n",
      "+-------+------------------+------------------+-------------------+------------------+------------------+------------------+\n",
      "\n"
     ]
    },
    {
     "name": "stderr",
     "output_type": "stream",
     "text": [
      "                                                                                \r"
     ]
    },
    {
     "name": "stdout",
     "output_type": "stream",
     "text": [
      "+-------+-----------------+------------------+------------------+-------------------+-------------------+------------------+\n",
      "|summary|            ap_lo|       cholesterol|              gluc|              smoke|               alco|            active|\n",
      "+-------+-----------------+------------------+------------------+-------------------+-------------------+------------------+\n",
      "|  count|            69597|             69601|             69601|              69601|              69601|             69601|\n",
      "|   mean|96.52566920987974|1.3672504705392163|1.2266203071794946| 0.0882314909268545|0.05382106578928464|0.8037671872530567|\n",
      "| stddev|186.1296497832109|0.6805562160872439|0.5725085691129262|0.28363330336721265|0.22566588208767874|0.3971495462911729|\n",
      "|    min|              -70|                 1|                 1|                  0|                  0|                 0|\n",
      "|    max|            11000|                 3|                 3|                  1|                  1|                 1|\n",
      "+-------+-----------------+------------------+------------------+-------------------+-------------------+------------------+\n",
      "\n",
      "+-------+------------------+\n",
      "|summary|            cardio|\n",
      "+-------+------------------+\n",
      "|  count|             69601|\n",
      "|   mean|0.4996336259536501|\n",
      "| stddev|0.5000034577101958|\n",
      "|    min|                 0|\n",
      "|    max|                 1|\n",
      "+-------+------------------+\n",
      "\n",
      "root\n",
      " |-- id: integer (nullable = true)\n",
      " |-- age: integer (nullable = true)\n",
      " |-- gender: string (nullable = true)\n",
      " |-- height: integer (nullable = true)\n",
      " |-- weight: integer (nullable = true)\n",
      " |-- ap_hi: integer (nullable = true)\n",
      " |-- ap_lo: integer (nullable = true)\n",
      " |-- cholesterol: string (nullable = true)\n",
      " |-- gluc: string (nullable = true)\n",
      " |-- smoke: string (nullable = true)\n",
      " |-- alco: string (nullable = true)\n",
      " |-- active: string (nullable = true)\n",
      " |-- cardio: string (nullable = true)\n",
      "\n"
     ]
    }
   ],
   "source": [
    "# create a structure for data types\n",
    "from pyspark.sql.types import (StructField,StringType,IntegerType,StructType)\n",
    "# Then create a variable with the correct structure.\n",
    "data_schema = [StructField('id',IntegerType(),False),\n",
    "              StructField('age',IntegerType(),False),\n",
    "              StructField('gender',StringType(),False),\n",
    "              StructField('height',IntegerType(),False),\n",
    "              StructField('weight',IntegerType(),False),\n",
    "              StructField('ap_hi',IntegerType(),False),\n",
    "              StructField('ap_lo',IntegerType(),False),\n",
    "              StructField('cholesterol',StringType(),False),\n",
    "              StructField('gluc',StringType(),False),\n",
    "              StructField('smoke',StringType(),False),\n",
    "              StructField('alco',StringType(),False),\n",
    "              StructField('active',StringType(),False),\n",
    "              StructField('cardio',StringType(),False)]\n",
    "\n",
    "final_struct = StructType(fields=data_schema)\n",
    "# Get two data sources and merge into one table\n",
    "test_csv=spark.read.option(\"header\", \"true\").csv(\"/home/ubuntu/722_BDAS/heart_disease_test.csv\", schema=final_struct)\n",
    "train_csv=spark.read.option(\"header\", \"true\").csv(\"/home/ubuntu/722_BDAS/heart_disease_train_data.csv\", schema=final_struct)\n",
    "df = test_csv.unionByName(train_csv, allowMissingColumns=True)\n",
    "# Show the data sample (first 10 rows), table columns and count\n",
    "df.show()\n",
    "print(df.columns)\n",
    "print(df.count())\n",
    "\n",
    "df.select([\"id\", \"age\",\"gender\",\"height\",\"weight\", \"ap_hi\"]).describe().show()\n",
    "df.select([\"ap_lo\",\"cholesterol\",\"gluc\",\"smoke\",\"alco\",\"active\"]).describe().show()\n",
    "df.select([\"cardio\"]).describe().show()\n",
    "\n",
    "df.printSchema()"
   ]
  },
  {
   "cell_type": "code",
   "execution_count": null,
   "id": "cc19317f",
   "metadata": {},
   "outputs": [],
   "source": []
  }
 ],
 "metadata": {
  "kernelspec": {
   "display_name": "Python 3 (ipykernel)",
   "language": "python",
   "name": "python3"
  },
  "language_info": {
   "codemirror_mode": {
    "name": "ipython",
    "version": 3
   },
   "file_extension": ".py",
   "mimetype": "text/x-python",
   "name": "python",
   "nbconvert_exporter": "python",
   "pygments_lexer": "ipython3",
   "version": "3.10.4"
  }
 },
 "nbformat": 4,
 "nbformat_minor": 5
}
