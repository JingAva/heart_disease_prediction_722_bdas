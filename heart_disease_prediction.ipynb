{
 "cells": [
  {
   "cell_type": "code",
   "execution_count": 2,
   "id": "b22348ce",
   "metadata": {},
   "outputs": [
    {
     "name": "stderr",
     "output_type": "stream",
     "text": [
      "WARNING: An illegal reflective access operation has occurred\n",
      "WARNING: Illegal reflective access by org.apache.spark.unsafe.Platform (file:/home/ubuntu/spark-3.2.1-bin-hadoop2.7/jars/spark-unsafe_2.12-3.2.1.jar) to constructor java.nio.DirectByteBuffer(long,int)\n",
      "WARNING: Please consider reporting this to the maintainers of org.apache.spark.unsafe.Platform\n",
      "WARNING: Use --illegal-access=warn to enable warnings of further illegal reflective access operations\n",
      "WARNING: All illegal access operations will be denied in a future release\n",
      "Using Spark's default log4j profile: org/apache/spark/log4j-defaults.properties\n",
      "Setting default log level to \"WARN\".\n",
      "To adjust logging level use sc.setLogLevel(newLevel). For SparkR, use setLogLevel(newLevel).\n",
      "22/10/03 03:54:34 WARN NativeCodeLoader: Unable to load native-hadoop library for your platform... using builtin-java classes where applicable\n"
     ]
    }
   ],
   "source": [
    "# Must be included at the beginning of each new notebook. Remember to change the app name.\n",
    "import findspark\n",
    "findspark.init('/home/ubuntu/spark-3.2.1-bin-hadoop2.7')\n",
    "import pyspark\n",
    "from pyspark.sql import SparkSession\n",
    "spark = SparkSession.builder.appName('basics').getOrCreate()"
   ]
  },
  {
   "cell_type": "code",
   "execution_count": 9,
   "id": "0c53e312",
   "metadata": {},
   "outputs": [
    {
     "name": "stdout",
     "output_type": "stream",
     "text": [
      "+---+-----+------+------+------+-----+-----+-----------+----+-----+----+------+------+\n",
      "|_c0|  _c1|   _c2|   _c3|   _c4|  _c5|  _c6|        _c7| _c8|  _c9|_c10|  _c11|  _c12|\n",
      "+---+-----+------+------+------+-----+-----+-----------+----+-----+----+------+------+\n",
      "| id|  age|gender|height|weight|ap_hi|ap_lo|cholesterol|gluc|smoke|alco|active|cardio|\n",
      "|  1|20228|     1|   156|    85|  140|   90|          3|   1|    0|   0|     1|     1|\n",
      "|  2|18857|     1|   165|    64|  130|   70|          3|   1|    0|   0|     0|     1|\n",
      "|  3|17623|     2|   169|    82|  150|  100|          1|   1|    0|   0|     1|     1|\n",
      "|  4|17474|     1|   156|    56|  100|   60|          1|   1|    0|   0|     0|     0|\n",
      "|  8|21914|     1|   151|    67|  120|   80|          2|   2|    0|   0|     0|     0|\n",
      "|  9|22113|     1|   157|    93|  130|   80|          3|   1|    0|   0|     1|     0|\n",
      "| 12|22584|     2|   178|    95|  130|   90|          3|   3|    0|   0|     1|     1|\n",
      "| 13|17668|     1|   158|    71|  110|   70|          1|   1|    0|   0|     1|     0|\n",
      "| 14|19834|     1|   164|    68|  110|   60|          1|   1|    0|   0|     0|     0|\n",
      "| 15|22530|     1|   169|    80|  120|   80|          1|   1|    0|   0|     1|     0|\n",
      "| 16|18815|     2|   173|    60|  120|   80|          1|   1|    0|   0|     1|     0|\n",
      "| 18|14791|     2|   165|    60|  120|   80|          1|   1|    0|   0|     0|     0|\n",
      "| 21|19809|     1|   158|    78|  110|   70|          1|   1|    0|   0|     1|     0|\n",
      "| 23|14532|     2|   181|    95|  130|   90|          1|   1|    1|   1|     1|     0|\n",
      "| 24|16782|     2|   172|   112|  120|   80|          1|   1|    0|   0|     0|     1|\n",
      "| 25| null|     1|   170|    75|  130|   70|          1|   1|    0|   0|     0|     0|\n",
      "| 27|16747|     1|   158|  null|  110|   70|          1|   3|    0|   0|     1|     0|\n",
      "| 28|17482|     1|   154|    68|  100|   70|          1|   1|    0|   0|     0|     0|\n",
      "| 29|21755|     2|   162|    56|  120|   70|          1|   1|    1|   0|     1|     0|\n",
      "+---+-----+------+------+------+-----+-----+-----------+----+-----+----+------+------+\n",
      "only showing top 20 rows\n",
      "\n"
     ]
    },
    {
     "name": "stderr",
     "output_type": "stream",
     "text": [
      "                                                                                \r"
     ]
    },
    {
     "name": "stdout",
     "output_type": "stream",
     "text": [
      "+-------+------------------+------------------+-------------------+------------------+------------------+------------------+-----------------+------------------+------------------+-------------------+-------------------+------------------+------------------+\n",
      "|summary|               _c0|               _c1|                _c2|               _c3|               _c4|               _c5|              _c6|               _c7|               _c8|                _c9|               _c10|              _c11|              _c12|\n",
      "+-------+------------------+------------------+-------------------+------------------+------------------+------------------+-----------------+------------------+------------------+-------------------+-------------------+------------------+------------------+\n",
      "|  count|             69597|             69599|              69603|             69601|             69596|             69592|            69599|             69603|             69603|              69603|              69603|             69603|             69603|\n",
      "|   mean|50157.826826639845|19468.128303133937| 1.3496070458757776|164.35981838819524| 74.20299594792654|128.82417013938783|96.52566920987974|1.3672504705392163|1.2266203071794946| 0.0882314909268545|0.05382106578928464|0.8037671872530567|0.4996336259536501|\n",
      "| stddev|28823.868388475246|2466.8843359438742|0.47684927003400684| 8.211530761730874|14.399108782926215| 154.4557028689057|186.1296497832109|0.6805562160872439|0.5725085691129262|0.28363330336721265|0.22566588208767874|0.3971495462911729|0.5000034577101958|\n",
      "|    min|                 1|             10798|                  1|               100|                10|              -100|              -70|                 1|                 1|                  0|                  0|                 0|                 0|\n",
      "|    max|                id|              null|             gender|            height|            weight|             ap_hi|            ap_lo|       cholesterol|              gluc|              smoke|               alco|            active|            cardio|\n",
      "+-------+------------------+------------------+-------------------+------------------+------------------+------------------+-----------------+------------------+------------------+-------------------+-------------------+------------------+------------------+\n",
      "\n"
     ]
    },
    {
     "data": {
      "text/plain": [
       "69603"
      ]
     },
     "execution_count": 9,
     "metadata": {},
     "output_type": "execute_result"
    }
   ],
   "source": [
    "test_csv=spark.read.csv(\"/home/ubuntu/722_BDAS/heart_disease_test.csv\")\n",
    "train_csv=spark.read.csv(\"/home/ubuntu/722_BDAS/heart_disease_train_data.csv\")\n",
    "df = test_csv.unionByName(train_csv, allowMissingColumns=True)\n",
    "df.show()\n",
    "df.describe().show()\n",
    "df.count()"
   ]
  },
  {
   "cell_type": "code",
   "execution_count": null,
   "id": "cc19317f",
   "metadata": {},
   "outputs": [],
   "source": []
  }
 ],
 "metadata": {
  "kernelspec": {
   "display_name": "Python 3 (ipykernel)",
   "language": "python",
   "name": "python3"
  },
  "language_info": {
   "codemirror_mode": {
    "name": "ipython",
    "version": 3
   },
   "file_extension": ".py",
   "mimetype": "text/x-python",
   "name": "python",
   "nbconvert_exporter": "python",
   "pygments_lexer": "ipython3",
   "version": "3.10.4"
  }
 },
 "nbformat": 4,
 "nbformat_minor": 5
}
